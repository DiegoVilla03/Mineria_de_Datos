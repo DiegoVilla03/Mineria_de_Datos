{
 "cells": [
  {
   "cell_type": "code",
   "execution_count": 1,
   "id": "8950f191",
   "metadata": {},
   "outputs": [],
   "source": [
    "# lOAD DATA\n",
    "# Este conjunto de datos pertenece a todos los tipos de permisos estructurales desde el 1 de enero de 2013 \n",
    "#hasta el 25 de febrero de 2018. Los datos incluyen detalles sobre números de solicitud/permiso, direcciones de trabajo, \n",
    "#distritos de supervisión y el estado actual de las solicitudes.\n",
    "\n",
    "# import numpy and pandas\n",
    "\n",
    "import numpy as np # linear algebra\n",
    "import pandas as pd # data processing, CSV file I/O (e.g. pd.read_csv)\n",
    "\n",
    "# read in the San Francisco building permits data\n",
    "sfPermits = pd.read_csv(\"C:\\CODE\\Python\\Py_Mineria\\Datasets\\ETH-USD.csv\", sep = \",\")\n",
    "\n",
    "# set seed for reproducibility\n",
    "np.random.seed(0)"
   ]
  },
  {
   "cell_type": "code",
   "execution_count": 2,
   "id": "cb5488a2",
   "metadata": {},
   "outputs": [
    {
     "data": {
      "text/html": [
       "<div>\n",
       "<style scoped>\n",
       "    .dataframe tbody tr th:only-of-type {\n",
       "        vertical-align: middle;\n",
       "    }\n",
       "\n",
       "    .dataframe tbody tr th {\n",
       "        vertical-align: top;\n",
       "    }\n",
       "\n",
       "    .dataframe thead th {\n",
       "        text-align: right;\n",
       "    }\n",
       "</style>\n",
       "<table border=\"1\" class=\"dataframe\">\n",
       "  <thead>\n",
       "    <tr style=\"text-align: right;\">\n",
       "      <th></th>\n",
       "      <th>Date</th>\n",
       "      <th>Open</th>\n",
       "      <th>High</th>\n",
       "      <th>Low</th>\n",
       "      <th>Close</th>\n",
       "      <th>Adj Close</th>\n",
       "      <th>Volume</th>\n",
       "    </tr>\n",
       "  </thead>\n",
       "  <tbody>\n",
       "    <tr>\n",
       "      <th>0</th>\n",
       "      <td>2018-01-01</td>\n",
       "      <td>755.757019</td>\n",
       "      <td>782.530029</td>\n",
       "      <td>742.004028</td>\n",
       "      <td>772.640991</td>\n",
       "      <td>772.640991</td>\n",
       "      <td>2595760128</td>\n",
       "    </tr>\n",
       "    <tr>\n",
       "      <th>1</th>\n",
       "      <td>2018-01-02</td>\n",
       "      <td>772.346008</td>\n",
       "      <td>914.830017</td>\n",
       "      <td>772.346008</td>\n",
       "      <td>884.443970</td>\n",
       "      <td>884.443970</td>\n",
       "      <td>5783349760</td>\n",
       "    </tr>\n",
       "    <tr>\n",
       "      <th>2</th>\n",
       "      <td>2018-01-03</td>\n",
       "      <td>886.000000</td>\n",
       "      <td>974.471008</td>\n",
       "      <td>868.450989</td>\n",
       "      <td>962.719971</td>\n",
       "      <td>962.719971</td>\n",
       "      <td>5093159936</td>\n",
       "    </tr>\n",
       "    <tr>\n",
       "      <th>3</th>\n",
       "      <td>2018-01-04</td>\n",
       "      <td>961.713013</td>\n",
       "      <td>1045.079956</td>\n",
       "      <td>946.085999</td>\n",
       "      <td>980.921997</td>\n",
       "      <td>980.921997</td>\n",
       "      <td>6502859776</td>\n",
       "    </tr>\n",
       "    <tr>\n",
       "      <th>4</th>\n",
       "      <td>2018-01-05</td>\n",
       "      <td>975.750000</td>\n",
       "      <td>1075.390015</td>\n",
       "      <td>956.325012</td>\n",
       "      <td>997.719971</td>\n",
       "      <td>997.719971</td>\n",
       "      <td>6683149824</td>\n",
       "    </tr>\n",
       "  </tbody>\n",
       "</table>\n",
       "</div>"
      ],
      "text/plain": [
       "         Date        Open         High         Low       Close   Adj Close  \\\n",
       "0  2018-01-01  755.757019   782.530029  742.004028  772.640991  772.640991   \n",
       "1  2018-01-02  772.346008   914.830017  772.346008  884.443970  884.443970   \n",
       "2  2018-01-03  886.000000   974.471008  868.450989  962.719971  962.719971   \n",
       "3  2018-01-04  961.713013  1045.079956  946.085999  980.921997  980.921997   \n",
       "4  2018-01-05  975.750000  1075.390015  956.325012  997.719971  997.719971   \n",
       "\n",
       "       Volume  \n",
       "0  2595760128  \n",
       "1  5783349760  \n",
       "2  5093159936  \n",
       "3  6502859776  \n",
       "4  6683149824  "
      ]
     },
     "execution_count": 2,
     "metadata": {},
     "output_type": "execute_result"
    }
   ],
   "source": [
    "sfPermits.head()"
   ]
  },
  {
   "cell_type": "code",
   "execution_count": 3,
   "id": "0ea3c073",
   "metadata": {},
   "outputs": [
    {
     "data": {
      "text/plain": [
       "(2038, 7)"
      ]
     },
     "execution_count": 3,
     "metadata": {},
     "output_type": "execute_result"
    }
   ],
   "source": [
    "# Shape of data\n",
    "sfPermits.shape"
   ]
  },
  {
   "cell_type": "code",
   "execution_count": 4,
   "id": "fdf7f4e1",
   "metadata": {},
   "outputs": [
    {
     "data": {
      "text/plain": [
       "14266"
      ]
     },
     "execution_count": 4,
     "metadata": {},
     "output_type": "execute_result"
    }
   ],
   "source": [
    "# Calculate total number of cells in dataframe\n",
    "totalCells = np.product(sfPermits.shape)\n",
    "totalCells"
   ]
  },
  {
   "cell_type": "code",
   "execution_count": 5,
   "id": "52f1ac7a",
   "metadata": {},
   "outputs": [
    {
     "data": {
      "text/plain": [
       "Date         0\n",
       "Open         0\n",
       "High         0\n",
       "Low          0\n",
       "Close        0\n",
       "Adj Close    0\n",
       "Volume       0\n",
       "dtype: int64"
      ]
     },
     "execution_count": 5,
     "metadata": {},
     "output_type": "execute_result"
    }
   ],
   "source": [
    "# Count number of missing values per column\n",
    "missingCount = sfPermits.isnull().sum()\n",
    "missingCount"
   ]
  },
  {
   "cell_type": "code",
   "execution_count": 6,
   "id": "e1779c1d",
   "metadata": {},
   "outputs": [
    {
     "data": {
      "text/plain": [
       "0"
      ]
     },
     "execution_count": 6,
     "metadata": {},
     "output_type": "execute_result"
    }
   ],
   "source": [
    "# Calculate total number of missing values\n",
    "totalMissing = missingCount.sum()\n",
    "totalMissing"
   ]
  },
  {
   "cell_type": "code",
   "execution_count": 7,
   "id": "ced63dbd",
   "metadata": {},
   "outputs": [
    {
     "name": "stdout",
     "output_type": "stream",
     "text": [
      "The SF Permits dataset contains 0.0 % missing values.\n"
     ]
    }
   ],
   "source": [
    "# Calculate percentage of missing values\n",
    "print(\"The SF Permits dataset contains\", round(((totalMissing/totalCells) * 100), 2), \"%\", \"missing values.\")"
   ]
  },
  {
   "cell_type": "code",
   "execution_count": null,
   "id": "5e4cbc98",
   "metadata": {},
   "outputs": [],
   "source": [
    "# Street Number Suffix and Zipcode from the sf_permits datasets. Both of these contain missing values\n",
    "\n",
    "missingCount[['Street Number Suffix', 'Zipcode']]"
   ]
  },
  {
   "cell_type": "code",
   "execution_count": 13,
   "id": "3a48faa7",
   "metadata": {},
   "outputs": [
    {
     "name": "stdout",
     "output_type": "stream",
     "text": [
      "Percent missing data in Street Number Suffix column = 98.89\n",
      "Percent missing data in Zipcode column = 0.86\n"
     ]
    }
   ],
   "source": [
    "# Percent missing data in:\n",
    "\n",
    "print(\"Percent missing data in Street Number Suffix column =\", (round(((missingCount['Street Number Suffix'] / sfPermits.shape[0]) * 100), 2)))\n",
    "print(\"Percent missing data in Zipcode column =\", (round(((missingCount['Zipcode'] / sfPermits.shape[0]) * 100), 2)))"
   ]
  },
  {
   "cell_type": "code",
   "execution_count": 10,
   "id": "5961bd61",
   "metadata": {},
   "outputs": [
    {
     "data": {
      "text/html": [
       "<div>\n",
       "<style scoped>\n",
       "    .dataframe tbody tr th:only-of-type {\n",
       "        vertical-align: middle;\n",
       "    }\n",
       "\n",
       "    .dataframe tbody tr th {\n",
       "        vertical-align: top;\n",
       "    }\n",
       "\n",
       "    .dataframe thead th {\n",
       "        text-align: right;\n",
       "    }\n",
       "</style>\n",
       "<table border=\"1\" class=\"dataframe\">\n",
       "  <thead>\n",
       "    <tr style=\"text-align: right;\">\n",
       "      <th></th>\n",
       "      <th>Date</th>\n",
       "      <th>Open</th>\n",
       "      <th>High</th>\n",
       "      <th>Low</th>\n",
       "      <th>Close</th>\n",
       "      <th>Adj Close</th>\n",
       "      <th>Volume</th>\n",
       "    </tr>\n",
       "  </thead>\n",
       "  <tbody>\n",
       "    <tr>\n",
       "      <th>0</th>\n",
       "      <td>2018-01-01</td>\n",
       "      <td>755.757019</td>\n",
       "      <td>782.530029</td>\n",
       "      <td>742.004028</td>\n",
       "      <td>772.640991</td>\n",
       "      <td>772.640991</td>\n",
       "      <td>2595760128</td>\n",
       "    </tr>\n",
       "    <tr>\n",
       "      <th>1</th>\n",
       "      <td>2018-01-02</td>\n",
       "      <td>772.346008</td>\n",
       "      <td>914.830017</td>\n",
       "      <td>772.346008</td>\n",
       "      <td>884.443970</td>\n",
       "      <td>884.443970</td>\n",
       "      <td>5783349760</td>\n",
       "    </tr>\n",
       "    <tr>\n",
       "      <th>2</th>\n",
       "      <td>2018-01-03</td>\n",
       "      <td>886.000000</td>\n",
       "      <td>974.471008</td>\n",
       "      <td>868.450989</td>\n",
       "      <td>962.719971</td>\n",
       "      <td>962.719971</td>\n",
       "      <td>5093159936</td>\n",
       "    </tr>\n",
       "    <tr>\n",
       "      <th>3</th>\n",
       "      <td>2018-01-04</td>\n",
       "      <td>961.713013</td>\n",
       "      <td>1045.079956</td>\n",
       "      <td>946.085999</td>\n",
       "      <td>980.921997</td>\n",
       "      <td>980.921997</td>\n",
       "      <td>6502859776</td>\n",
       "    </tr>\n",
       "    <tr>\n",
       "      <th>4</th>\n",
       "      <td>2018-01-05</td>\n",
       "      <td>975.750000</td>\n",
       "      <td>1075.390015</td>\n",
       "      <td>956.325012</td>\n",
       "      <td>997.719971</td>\n",
       "      <td>997.719971</td>\n",
       "      <td>6683149824</td>\n",
       "    </tr>\n",
       "    <tr>\n",
       "      <th>...</th>\n",
       "      <td>...</td>\n",
       "      <td>...</td>\n",
       "      <td>...</td>\n",
       "      <td>...</td>\n",
       "      <td>...</td>\n",
       "      <td>...</td>\n",
       "      <td>...</td>\n",
       "    </tr>\n",
       "    <tr>\n",
       "      <th>2033</th>\n",
       "      <td>2023-07-27</td>\n",
       "      <td>1872.086304</td>\n",
       "      <td>1885.591553</td>\n",
       "      <td>1855.321533</td>\n",
       "      <td>1860.357178</td>\n",
       "      <td>1860.357178</td>\n",
       "      <td>4291339248</td>\n",
       "    </tr>\n",
       "    <tr>\n",
       "      <th>2034</th>\n",
       "      <td>2023-07-28</td>\n",
       "      <td>1860.702515</td>\n",
       "      <td>1881.457275</td>\n",
       "      <td>1857.048950</td>\n",
       "      <td>1874.744873</td>\n",
       "      <td>1874.744873</td>\n",
       "      <td>3800973336</td>\n",
       "    </tr>\n",
       "    <tr>\n",
       "      <th>2035</th>\n",
       "      <td>2023-07-29</td>\n",
       "      <td>1874.560425</td>\n",
       "      <td>1885.529297</td>\n",
       "      <td>1870.333862</td>\n",
       "      <td>1881.068848</td>\n",
       "      <td>1881.068848</td>\n",
       "      <td>2497302218</td>\n",
       "    </tr>\n",
       "    <tr>\n",
       "      <th>2036</th>\n",
       "      <td>2023-07-30</td>\n",
       "      <td>1880.871582</td>\n",
       "      <td>1884.144165</td>\n",
       "      <td>1851.728027</td>\n",
       "      <td>1861.643799</td>\n",
       "      <td>1861.643799</td>\n",
       "      <td>4003005547</td>\n",
       "    </tr>\n",
       "    <tr>\n",
       "      <th>2037</th>\n",
       "      <td>2023-07-31</td>\n",
       "      <td>1861.755249</td>\n",
       "      <td>1875.629395</td>\n",
       "      <td>1851.915405</td>\n",
       "      <td>1856.162354</td>\n",
       "      <td>1856.162354</td>\n",
       "      <td>4391613314</td>\n",
       "    </tr>\n",
       "  </tbody>\n",
       "</table>\n",
       "<p>2038 rows × 7 columns</p>\n",
       "</div>"
      ],
      "text/plain": [
       "            Date         Open         High          Low        Close  \\\n",
       "0     2018-01-01   755.757019   782.530029   742.004028   772.640991   \n",
       "1     2018-01-02   772.346008   914.830017   772.346008   884.443970   \n",
       "2     2018-01-03   886.000000   974.471008   868.450989   962.719971   \n",
       "3     2018-01-04   961.713013  1045.079956   946.085999   980.921997   \n",
       "4     2018-01-05   975.750000  1075.390015   956.325012   997.719971   \n",
       "...          ...          ...          ...          ...          ...   \n",
       "2033  2023-07-27  1872.086304  1885.591553  1855.321533  1860.357178   \n",
       "2034  2023-07-28  1860.702515  1881.457275  1857.048950  1874.744873   \n",
       "2035  2023-07-29  1874.560425  1885.529297  1870.333862  1881.068848   \n",
       "2036  2023-07-30  1880.871582  1884.144165  1851.728027  1861.643799   \n",
       "2037  2023-07-31  1861.755249  1875.629395  1851.915405  1856.162354   \n",
       "\n",
       "        Adj Close      Volume  \n",
       "0      772.640991  2595760128  \n",
       "1      884.443970  5783349760  \n",
       "2      962.719971  5093159936  \n",
       "3      980.921997  6502859776  \n",
       "4      997.719971  6683149824  \n",
       "...           ...         ...  \n",
       "2033  1860.357178  4291339248  \n",
       "2034  1874.744873  3800973336  \n",
       "2035  1881.068848  2497302218  \n",
       "2036  1861.643799  4003005547  \n",
       "2037  1856.162354  4391613314  \n",
       "\n",
       "[2038 rows x 7 columns]"
      ]
     },
     "execution_count": 10,
     "metadata": {},
     "output_type": "execute_result"
    }
   ],
   "source": [
    "# removing all the rows from the sf_permits dataset that contain missing values\n",
    "\n",
    "sfPermits.dropna()"
   ]
  },
  {
   "cell_type": "code",
   "execution_count": 9,
   "id": "6a65cde6",
   "metadata": {},
   "outputs": [
    {
     "data": {
      "text/html": [
       "<div>\n",
       "<style scoped>\n",
       "    .dataframe tbody tr th:only-of-type {\n",
       "        vertical-align: middle;\n",
       "    }\n",
       "\n",
       "    .dataframe tbody tr th {\n",
       "        vertical-align: top;\n",
       "    }\n",
       "\n",
       "    .dataframe thead th {\n",
       "        text-align: right;\n",
       "    }\n",
       "</style>\n",
       "<table border=\"1\" class=\"dataframe\">\n",
       "  <thead>\n",
       "    <tr style=\"text-align: right;\">\n",
       "      <th></th>\n",
       "      <th>Date</th>\n",
       "      <th>Open</th>\n",
       "      <th>High</th>\n",
       "      <th>Low</th>\n",
       "      <th>Close</th>\n",
       "      <th>Adj Close</th>\n",
       "      <th>Volume</th>\n",
       "    </tr>\n",
       "  </thead>\n",
       "  <tbody>\n",
       "    <tr>\n",
       "      <th>0</th>\n",
       "      <td>2018-01-01</td>\n",
       "      <td>755.757019</td>\n",
       "      <td>782.530029</td>\n",
       "      <td>742.004028</td>\n",
       "      <td>772.640991</td>\n",
       "      <td>772.640991</td>\n",
       "      <td>2595760128</td>\n",
       "    </tr>\n",
       "    <tr>\n",
       "      <th>1</th>\n",
       "      <td>2018-01-02</td>\n",
       "      <td>772.346008</td>\n",
       "      <td>914.830017</td>\n",
       "      <td>772.346008</td>\n",
       "      <td>884.443970</td>\n",
       "      <td>884.443970</td>\n",
       "      <td>5783349760</td>\n",
       "    </tr>\n",
       "    <tr>\n",
       "      <th>2</th>\n",
       "      <td>2018-01-03</td>\n",
       "      <td>886.000000</td>\n",
       "      <td>974.471008</td>\n",
       "      <td>868.450989</td>\n",
       "      <td>962.719971</td>\n",
       "      <td>962.719971</td>\n",
       "      <td>5093159936</td>\n",
       "    </tr>\n",
       "    <tr>\n",
       "      <th>3</th>\n",
       "      <td>2018-01-04</td>\n",
       "      <td>961.713013</td>\n",
       "      <td>1045.079956</td>\n",
       "      <td>946.085999</td>\n",
       "      <td>980.921997</td>\n",
       "      <td>980.921997</td>\n",
       "      <td>6502859776</td>\n",
       "    </tr>\n",
       "    <tr>\n",
       "      <th>4</th>\n",
       "      <td>2018-01-05</td>\n",
       "      <td>975.750000</td>\n",
       "      <td>1075.390015</td>\n",
       "      <td>956.325012</td>\n",
       "      <td>997.719971</td>\n",
       "      <td>997.719971</td>\n",
       "      <td>6683149824</td>\n",
       "    </tr>\n",
       "  </tbody>\n",
       "</table>\n",
       "</div>"
      ],
      "text/plain": [
       "         Date        Open         High         Low       Close   Adj Close  \\\n",
       "0  2018-01-01  755.757019   782.530029  742.004028  772.640991  772.640991   \n",
       "1  2018-01-02  772.346008   914.830017  772.346008  884.443970  884.443970   \n",
       "2  2018-01-03  886.000000   974.471008  868.450989  962.719971  962.719971   \n",
       "3  2018-01-04  961.713013  1045.079956  946.085999  980.921997  980.921997   \n",
       "4  2018-01-05  975.750000  1075.390015  956.325012  997.719971  997.719971   \n",
       "\n",
       "       Volume  \n",
       "0  2595760128  \n",
       "1  5783349760  \n",
       "2  5093159936  \n",
       "3  6502859776  \n",
       "4  6683149824  "
      ]
     },
     "execution_count": 9,
     "metadata": {},
     "output_type": "execute_result"
    }
   ],
   "source": [
    "# removing all the columns with empty values.\n",
    "\n",
    "sfPermitsCleanCols = sfPermits.dropna(axis=1)\n",
    "sfPermitsCleanCols.head()"
   ]
  },
  {
   "cell_type": "code",
   "execution_count": 11,
   "id": "233f3a6f",
   "metadata": {},
   "outputs": [
    {
     "name": "stdout",
     "output_type": "stream",
     "text": [
      "Columns in original dataset: 7 \n",
      "\n",
      "Columns with na's dropped: 7\n"
     ]
    }
   ],
   "source": [
    "print(\"Columns in original dataset: %d \\n\" % sfPermits.shape[1])\n",
    "print(\"Columns with na's dropped: %d\" % sfPermitsCleanCols.shape[1])"
   ]
  },
  {
   "cell_type": "code",
   "execution_count": 12,
   "id": "d92f29b8",
   "metadata": {},
   "outputs": [
    {
     "data": {
      "text/html": [
       "<div>\n",
       "<style scoped>\n",
       "    .dataframe tbody tr th:only-of-type {\n",
       "        vertical-align: middle;\n",
       "    }\n",
       "\n",
       "    .dataframe tbody tr th {\n",
       "        vertical-align: top;\n",
       "    }\n",
       "\n",
       "    .dataframe thead th {\n",
       "        text-align: right;\n",
       "    }\n",
       "</style>\n",
       "<table border=\"1\" class=\"dataframe\">\n",
       "  <thead>\n",
       "    <tr style=\"text-align: right;\">\n",
       "      <th></th>\n",
       "      <th>Date</th>\n",
       "      <th>Open</th>\n",
       "      <th>High</th>\n",
       "      <th>Low</th>\n",
       "      <th>Close</th>\n",
       "      <th>Adj Close</th>\n",
       "      <th>Volume</th>\n",
       "    </tr>\n",
       "  </thead>\n",
       "  <tbody>\n",
       "    <tr>\n",
       "      <th>0</th>\n",
       "      <td>2018-01-01</td>\n",
       "      <td>755.757019</td>\n",
       "      <td>782.530029</td>\n",
       "      <td>742.004028</td>\n",
       "      <td>772.640991</td>\n",
       "      <td>772.640991</td>\n",
       "      <td>2595760128</td>\n",
       "    </tr>\n",
       "    <tr>\n",
       "      <th>1</th>\n",
       "      <td>2018-01-02</td>\n",
       "      <td>772.346008</td>\n",
       "      <td>914.830017</td>\n",
       "      <td>772.346008</td>\n",
       "      <td>884.443970</td>\n",
       "      <td>884.443970</td>\n",
       "      <td>5783349760</td>\n",
       "    </tr>\n",
       "    <tr>\n",
       "      <th>2</th>\n",
       "      <td>2018-01-03</td>\n",
       "      <td>886.000000</td>\n",
       "      <td>974.471008</td>\n",
       "      <td>868.450989</td>\n",
       "      <td>962.719971</td>\n",
       "      <td>962.719971</td>\n",
       "      <td>5093159936</td>\n",
       "    </tr>\n",
       "    <tr>\n",
       "      <th>3</th>\n",
       "      <td>2018-01-04</td>\n",
       "      <td>961.713013</td>\n",
       "      <td>1045.079956</td>\n",
       "      <td>946.085999</td>\n",
       "      <td>980.921997</td>\n",
       "      <td>980.921997</td>\n",
       "      <td>6502859776</td>\n",
       "    </tr>\n",
       "    <tr>\n",
       "      <th>4</th>\n",
       "      <td>2018-01-05</td>\n",
       "      <td>975.750000</td>\n",
       "      <td>1075.390015</td>\n",
       "      <td>956.325012</td>\n",
       "      <td>997.719971</td>\n",
       "      <td>997.719971</td>\n",
       "      <td>6683149824</td>\n",
       "    </tr>\n",
       "  </tbody>\n",
       "</table>\n",
       "</div>"
      ],
      "text/plain": [
       "         Date        Open         High         Low       Close   Adj Close  \\\n",
       "0  2018-01-01  755.757019   782.530029  742.004028  772.640991  772.640991   \n",
       "1  2018-01-02  772.346008   914.830017  772.346008  884.443970  884.443970   \n",
       "2  2018-01-03  886.000000   974.471008  868.450989  962.719971  962.719971   \n",
       "3  2018-01-04  961.713013  1045.079956  946.085999  980.921997  980.921997   \n",
       "4  2018-01-05  975.750000  1075.390015  956.325012  997.719971  997.719971   \n",
       "\n",
       "       Volume  \n",
       "0  2595760128  \n",
       "1  5783349760  \n",
       "2  5093159936  \n",
       "3  6502859776  \n",
       "4  6683149824  "
      ]
     },
     "execution_count": 12,
     "metadata": {},
     "output_type": "execute_result"
    }
   ],
   "source": [
    "# replacing all the NaN's in the sf_permit data with the one that comes directly after it and \n",
    "#then [replace all the reamining na's with 0]\n",
    "\n",
    "imputeSfPermits = sfPermits.fillna(method='ffill', axis=0).fillna(\"0\")\n",
    "\n",
    "imputeSfPermits.head()"
   ]
  },
  {
   "cell_type": "code",
   "execution_count": 13,
   "id": "c6037fa8",
   "metadata": {},
   "outputs": [
    {
     "data": {
      "text/plain": [
       "0"
      ]
     },
     "execution_count": 13,
     "metadata": {},
     "output_type": "execute_result"
    }
   ],
   "source": [
    "# Calculate total number of missing values in sfPermitsCleanCols\n",
    "\n",
    "missingCount = sfPermitsCleanCols.isnull().sum()\n",
    "totalMissing = missingCount.sum()\n",
    "totalMissing"
   ]
  },
  {
   "cell_type": "code",
   "execution_count": null,
   "id": "0aadc8da",
   "metadata": {},
   "outputs": [],
   "source": []
  }
 ],
 "metadata": {
  "kernelspec": {
   "display_name": "Python 3 (ipykernel)",
   "language": "python",
   "name": "python3"
  },
  "language_info": {
   "codemirror_mode": {
    "name": "ipython",
    "version": 3
   },
   "file_extension": ".py",
   "mimetype": "text/x-python",
   "name": "python",
   "nbconvert_exporter": "python",
   "pygments_lexer": "ipython3",
   "version": "3.11.2"
  }
 },
 "nbformat": 4,
 "nbformat_minor": 5
}
